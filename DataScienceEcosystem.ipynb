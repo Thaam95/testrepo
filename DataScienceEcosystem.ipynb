{
 "cells": [
  {
   "cell_type": "markdown",
   "id": "b9420806-c49f-4d79-9fa0-406fa211e173",
   "metadata": {},
   "source": [
    "# Data Science Tools and Ecosystem\n"
   ]
  },
  {
   "cell_type": "markdown",
   "id": "f740d7ce-c849-4157-b650-1acb3ec49655",
   "metadata": {},
   "source": [
    "In this notebook, Data Science Tools and Ecosystem are summarized.\n"
   ]
  },
  {
   "cell_type": "markdown",
   "id": "93ca8400-6bdc-4cfc-b8e8-fcf06317df0f",
   "metadata": {},
   "source": [
    "**Objectives:**\n",
    "- Python\n",
    "- R\n",
    "- C++"
   ]
  },
  {
   "cell_type": "markdown",
   "id": "a2333275-4dd7-4511-a9fa-bc1cfd07d8f5",
   "metadata": {},
   "source": [
    "Some of the popular languages that Data Scientists use are:\n",
    "1. Python\n",
    "2. JavaScript\n",
    "3. C#"
   ]
  },
  {
   "cell_type": "markdown",
   "id": "cfc1a671-7478-446a-bcf7-2b6dda00eb67",
   "metadata": {},
   "source": [
    "Some of the commonly used libraries used by Data Scientists include:\n",
    "1. Pandas\n",
    "2. Numpy\n",
    "3. Matplotlibs"
   ]
  },
  {
   "cell_type": "markdown",
   "id": "c28dc049-54f1-4d3d-b485-1bb156c64208",
   "metadata": {},
   "source": [
    "|  Data Science Tools |\n",
    "----------------------\n",
    "| MySQL |\n",
    "| Apache |\n",
    "| PowerBI |"
   ]
  },
  {
   "cell_type": "markdown",
   "id": "3f514834-9aba-4559-bebc-eb47d59ccc86",
   "metadata": {},
   "source": [
    "### Below are a few examples of evaluating arithmetic expressions in Python"
   ]
  },
  {
   "cell_type": "markdown",
   "id": "d5104def-4f54-4f48-b710-cf5acea6f614",
   "metadata": {},
   "source": [
    "This a simple arithmetic expression to mutiply then add integers"
   ]
  },
  {
   "cell_type": "code",
   "execution_count": 5,
   "id": "f103781b-921f-413e-b47f-83834ded3b22",
   "metadata": {},
   "outputs": [
    {
     "data": {
      "text/plain": [
       "17"
      ]
     },
     "execution_count": 5,
     "metadata": {},
     "output_type": "execute_result"
    }
   ],
   "source": [
    "(3*4)+5"
   ]
  },
  {
   "cell_type": "markdown",
   "id": "a307cff8-1087-4f46-8b4a-e253b406fda5",
   "metadata": {},
   "source": [
    "This will convert 200 minutes to hours by diving by 60"
   ]
  },
  {
   "cell_type": "code",
   "execution_count": 6,
   "id": "6f5fddba-9128-460e-b24b-3be0d68220bf",
   "metadata": {},
   "outputs": [
    {
     "data": {
      "text/plain": [
       "33.333333333333336"
      ]
     },
     "execution_count": 6,
     "metadata": {},
     "output_type": "execute_result"
    }
   ],
   "source": [
    "200/6"
   ]
  },
  {
   "cell_type": "markdown",
   "id": "ef775d5d-29f8-4062-9524-d58c967eb151",
   "metadata": {},
   "source": [
    "## Author\n",
    "Thaampapatt "
   ]
  },
  {
   "cell_type": "code",
   "execution_count": null,
   "id": "1e6aac66-cdeb-4bbe-9057-2d75136b2610",
   "metadata": {},
   "outputs": [],
   "source": []
  }
 ],
 "metadata": {
  "kernelspec": {
   "display_name": "Python 3 (ipykernel)",
   "language": "python",
   "name": "python3"
  },
  "language_info": {
   "codemirror_mode": {
    "name": "ipython",
    "version": 3
   },
   "file_extension": ".py",
   "mimetype": "text/x-python",
   "name": "python",
   "nbconvert_exporter": "python",
   "pygments_lexer": "ipython3",
   "version": "3.11.7"
  }
 },
 "nbformat": 4,
 "nbformat_minor": 5
}
